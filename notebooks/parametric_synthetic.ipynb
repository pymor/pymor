{
 "cells": [
  {
   "cell_type": "raw",
   "metadata": {},
   "source": [
    "This file is part of the pyMOR project (http://www.pymor.org).\n",
    "Copyright 2013-2019 pyMOR developers and contributors. All rights reserved.\n",
    "License: BSD 2-Clause License (http://opensource.org/licenses/BSD-2-Clause)"
   ]
  },
  {
   "cell_type": "code",
   "execution_count": null,
   "metadata": {},
   "outputs": [],
   "source": [
    "import numpy as np\n",
    "import scipy.linalg as spla\n",
    "import scipy.sparse as sps\n",
    "import matplotlib.pyplot as plt\n",
    "import matplotlib as mpl\n",
    "\n",
    "from pymor.core.config import config\n",
    "from pymor.models.iosys import LTIModel\n",
    "from pymor.operators.numpy import NumpyMatrixOperator\n",
    "from pymor.parameters.functionals import ProjectionParameterFunctional\n",
    "from pymor.reductors.bt import BTReductor\n",
    "from pymor.reductors.h2 import IRKAReductor"
   ]
  },
  {
   "cell_type": "markdown",
   "metadata": {},
   "source": [
    "# Model\n",
    "\n",
    "https://morwiki.mpi-magdeburg.mpg.de/morwiki/index.php/Synthetic_parametric_model"
   ]
  },
  {
   "cell_type": "code",
   "execution_count": null,
   "metadata": {},
   "outputs": [],
   "source": [
    "n = 100  # order of the resulting system\n",
    "\n",
    "# set coefficients\n",
    "a = -np.linspace(1e1, 1e3, n // 2)\n",
    "b = np.linspace(1e1, 1e3, n // 2)\n",
    "c = np.ones(n // 2)\n",
    "d = np.zeros(n // 2)\n",
    "\n",
    "# build 2x2 submatrices\n",
    "aa = np.empty(n)\n",
    "aa[::2] = a\n",
    "aa[1::2] = a\n",
    "bb = np.zeros(n)\n",
    "bb[::2] = b\n",
    "\n",
    "# set up system matrices\n",
    "Amu = sps.diags(aa, format='csc')\n",
    "A0 = sps.diags([bb, -bb], [1, -1], shape=(n, n), format='csc')\n",
    "B = np.zeros((n, 1))\n",
    "B[::2, 0] = 2\n",
    "C = np.empty((1, n))\n",
    "C[0, ::2] = c\n",
    "C[0, 1::2] = d"
   ]
  },
  {
   "cell_type": "code",
   "execution_count": null,
   "metadata": {},
   "outputs": [],
   "source": [
    "A0 = NumpyMatrixOperator(A0)\n",
    "Amu = NumpyMatrixOperator(Amu)\n",
    "B = NumpyMatrixOperator(B)\n",
    "C = NumpyMatrixOperator(C)"
   ]
  },
  {
   "cell_type": "code",
   "execution_count": null,
   "metadata": {},
   "outputs": [],
   "source": [
    "A = A0 + Amu * ProjectionParameterFunctional('mu', ())"
   ]
  },
  {
   "cell_type": "code",
   "execution_count": null,
   "metadata": {},
   "outputs": [],
   "source": [
    "lti = LTIModel(A, B, C)"
   ]
  },
  {
   "cell_type": "markdown",
   "metadata": {},
   "source": [
    "# Magnitude plot"
   ]
  },
  {
   "cell_type": "code",
   "execution_count": null,
   "metadata": {},
   "outputs": [],
   "source": [
    "mu_list_short = [1/50, 1/20, 1/10, 1/5, 1/2, 1]"
   ]
  },
  {
   "cell_type": "code",
   "execution_count": null,
   "metadata": {},
   "outputs": [],
   "source": [
    "w = np.logspace(0.5, 3.5, 200)\n",
    "\n",
    "fig, ax = plt.subplots()\n",
    "for mu in mu_list_short:\n",
    "    lti.mag_plot(w, ax=ax, mu=mu, label=fr'$\\mu = {mu}$')\n",
    "ax.legend()\n",
    "plt.show()"
   ]
  },
  {
   "cell_type": "code",
   "execution_count": null,
   "metadata": {},
   "outputs": [],
   "source": [
    "w_list = np.logspace(0.5, 3.5, 200)\n",
    "mu_list = np.linspace(1/50, 1, 50)\n",
    "\n",
    "lti_w_mu = np.zeros((len(w_list), len(mu_list)))\n",
    "for i, mu in enumerate(mu_list):\n",
    "    lti_w_mu[:, i] = spla.norm(lti.freq_resp(w_list, mu=mu), axis=(1, 2))"
   ]
  },
  {
   "cell_type": "code",
   "execution_count": null,
   "metadata": {},
   "outputs": [],
   "source": [
    "fig, ax = plt.subplots()\n",
    "out = ax.contourf(w_list, mu_list, lti_w_mu.T,\n",
    "                  norm=mpl.colors.LogNorm(),\n",
    "                  levels=np.logspace(np.log10(lti_w_mu.min()), np.log10(lti_w_mu.max()), 100))\n",
    "ax.set_xlabel(r'Frequency $\\omega$')\n",
    "ax.set_ylabel(r'Parameter $\\mu$')\n",
    "ax.set_xscale('log')\n",
    "#ax.set_yscale('log')\n",
    "fig.colorbar(out, ticks=np.logspace(-2, 1, 7))\n",
    "plt.show()"
   ]
  },
  {
   "cell_type": "markdown",
   "metadata": {},
   "source": [
    "# Hankel singular values"
   ]
  },
  {
   "cell_type": "code",
   "execution_count": null,
   "metadata": {},
   "outputs": [],
   "source": [
    "fig, ax = plt.subplots()\n",
    "for mu in mu_list_short:\n",
    "    hsv = lti.hsv(mu=mu)\n",
    "    ax.semilogy(range(1, len(hsv) + 1), hsv, '.-', label=fr'$\\mu = {mu}$')\n",
    "ax.set_title('Hankel singular values')\n",
    "ax.legend()\n",
    "plt.show()"
   ]
  },
  {
   "cell_type": "markdown",
   "metadata": {},
   "source": [
    "# System norms"
   ]
  },
  {
   "cell_type": "code",
   "execution_count": null,
   "metadata": {},
   "outputs": [],
   "source": [
    "fig, ax = plt.subplots()\n",
    "mu_fine = np.linspace(1/50, 1, 20)\n",
    "h2_norm_mu = [lti.h2_norm(mu=mu) for mu in mu_fine]\n",
    "ax.plot(mu_fine, h2_norm_mu, '.-', label=r'$\\mathcal{H}_2$-norm')\n",
    "\n",
    "if config.HAVE_SLYCOT:\n",
    "    hinf_norm_mu = [lti.hinf_norm(mu=mu) for mu in mu_fine]\n",
    "    ax.plot(mu_fine, hinf_norm_mu, '.-', label=r'$\\mathcal{H}_\\infty$-norm')\n",
    "\n",
    "hankel_norm_mu = [lti.hankel_norm(mu=mu) for mu in mu_fine]\n",
    "ax.plot(mu_fine, hankel_norm_mu, '.-', label='Hankel norm')\n",
    "\n",
    "ax.set_xlabel(r'$\\mu$')\n",
    "ax.set_title('System norms')\n",
    "ax.legend()\n",
    "plt.show()"
   ]
  },
  {
   "cell_type": "markdown",
   "metadata": {},
   "source": [
    "# Balanced truncation"
   ]
  },
  {
   "cell_type": "code",
   "execution_count": null,
   "metadata": {},
   "outputs": [],
   "source": [
    "def reduction_errors(lti, r, mu_fine, method):\n",
    "    h2_err_mu = []\n",
    "    hinf_err_mu = []\n",
    "    hankel_err_mu = []\n",
    "    for mu in mu_fine:\n",
    "        rom_mu = method(lti, r, mu=mu)\n",
    "        h2_err_mu.append((lti - rom_mu).h2_norm(mu=mu) / lti.h2_norm(mu=mu))\n",
    "        if config.HAVE_SLYCOT:\n",
    "            hinf_err_mu.append((lti - rom_mu).hinf_norm(mu=mu) / lti.hinf_norm(mu=mu))\n",
    "        hankel_err_mu.append((lti - rom_mu).hankel_norm(mu=mu) / lti.hankel_norm(mu=mu))\n",
    "    return h2_err_mu, hinf_err_mu, hankel_err_mu"
   ]
  },
  {
   "cell_type": "code",
   "execution_count": null,
   "metadata": {
    "scrolled": true
   },
   "outputs": [],
   "source": [
    "r = 20\n",
    "mu_fine = np.linspace(1/50, 1, 10)\n",
    "(\n",
    "    h2_bt_err_mu,\n",
    "    hinf_bt_err_mu,\n",
    "    hankel_bt_err_mu\n",
    ") = reduction_errors(lti, r, mu_fine,\n",
    "                     lambda lti, r, mu=None: BTReductor(lti, mu=mu).reduce(r))"
   ]
  },
  {
   "cell_type": "code",
   "execution_count": null,
   "metadata": {},
   "outputs": [],
   "source": [
    "fig, ax = plt.subplots()\n",
    "ax.semilogy(mu_fine, h2_bt_err_mu, '.-', label=r'$\\mathcal{H}_2$')\n",
    "if config.HAVE_SLYCOT:\n",
    "    ax.semilogy(mu_fine, hinf_bt_err_mu, '.-', label=r'$\\mathcal{H}_\\infty$')\n",
    "ax.semilogy(mu_fine, hankel_bt_err_mu, '.-', label='Hankel')\n",
    "\n",
    "ax.set_xlabel(r'$\\mu$')\n",
    "ax.set_title('Balanced truncation errors')\n",
    "ax.legend()\n",
    "plt.show()"
   ]
  },
  {
   "cell_type": "markdown",
   "metadata": {},
   "source": [
    "# Iterative Rational Krylov Algorithm (IRKA)"
   ]
  },
  {
   "cell_type": "code",
   "execution_count": null,
   "metadata": {},
   "outputs": [],
   "source": [
    "(\n",
    "    h2_irka_err_mu,\n",
    "    hinf_irka_err_mu,\n",
    "    hankel_irka_err_mu\n",
    ") = reduction_errors(lti, r, mu_fine,\n",
    "                     lambda lti, r, mu=mu: IRKAReductor(lti, mu=mu).reduce(r, conv_crit='h2'))"
   ]
  },
  {
   "cell_type": "code",
   "execution_count": null,
   "metadata": {},
   "outputs": [],
   "source": [
    "fig, ax = plt.subplots()\n",
    "ax.semilogy(mu_fine, h2_irka_err_mu, '.-', label=r'$\\mathcal{H}_2$')\n",
    "if config.HAVE_SLYCOT:\n",
    "    ax.semilogy(mu_fine, hinf_irka_err_mu, '.-', label=r'$\\mathcal{H}_\\infty$')\n",
    "ax.semilogy(mu_fine, hankel_irka_err_mu, '.-', label='Hankel')\n",
    "\n",
    "ax.set_xlabel(r'$\\mu$')\n",
    "ax.set_title('IRKA errors')\n",
    "ax.legend()\n",
    "plt.show()"
   ]
  }
 ],
 "metadata": {
  "kernelspec": {
   "display_name": "Python 3",
   "language": "python",
   "name": "python3"
  },
  "language_info": {
   "codemirror_mode": {
    "name": "ipython",
    "version": 3
   },
   "file_extension": ".py",
   "mimetype": "text/x-python",
   "name": "python",
   "nbconvert_exporter": "python",
   "pygments_lexer": "ipython3",
   "version": "3.6.8"
  }
 },
 "nbformat": 4,
 "nbformat_minor": 2
}
