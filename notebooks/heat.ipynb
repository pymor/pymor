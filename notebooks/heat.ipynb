{
 "cells": [
  {
   "cell_type": "raw",
   "metadata": {},
   "source": [
    "This file is part of the pyMOR project (http://www.pymor.org).\n",
    "Copyright 2013-2020 pyMOR developers and contributors. All rights reserved.\n",
    "License: BSD 2-Clause License (http://opensource.org/licenses/BSD-2-Clause)"
   ]
  },
  {
   "cell_type": "markdown",
   "metadata": {},
   "source": [
    "# Heat equation example"
   ]
  },
  {
   "cell_type": "markdown",
   "metadata": {},
   "source": [
    "## Analytic problem formulation\n",
    "\n",
    "We consider the heat equation on the segment $[0, 1]$, with dissipation on both sides, heating (input) $u$ on the left, and measurement (output) $\\tilde{y}$ on the right:\n",
    "$$\n",
    "\\begin{align*}\n",
    "    \\partial_t T(z, t) & = \\partial_{zz} T(z, t), & 0 < z < 1,\\ t > 0, \\\\\n",
    "    \\partial_z T(0, t) & = T(0, t) - u(t), & t > 0, \\\\\n",
    "    \\partial_z T(1, t) & = -T(1, t), & t > 0, \\\\\n",
    "    \\tilde{y}(t) & = T(1, t), & t > 0.\n",
    "\\end{align*}\n",
    "$$\n"
   ]
  },
  {
   "cell_type": "markdown",
   "metadata": {},
   "source": [
    "## Import modules"
   ]
  },
  {
   "cell_type": "code",
   "execution_count": null,
   "metadata": {},
   "outputs": [],
   "source": [
    "import numpy as np\n",
    "import scipy.linalg as spla\n",
    "import scipy.integrate as spint\n",
    "import matplotlib.pyplot as plt\n",
    "\n",
    "from pymor.basic import *\n",
    "from pymor.core.config import config\n",
    "from pymor.reductors.h2 import OneSidedIRKAReductor\n",
    "\n",
    "from pymor.core.logger import set_log_levels\n",
    "set_log_levels({'pymor.algorithms.gram_schmidt.gram_schmidt': 'WARNING'})"
   ]
  },
  {
   "cell_type": "markdown",
   "metadata": {},
   "source": [
    "## Assemble LTIModel"
   ]
  },
  {
   "cell_type": "markdown",
   "metadata": {},
   "source": [
    "### Discretize problem"
   ]
  },
  {
   "cell_type": "code",
   "execution_count": null,
   "metadata": {},
   "outputs": [],
   "source": [
    "p = InstationaryProblem(\n",
    "    StationaryProblem(\n",
    "        domain=LineDomain([0.,1.], left='robin', right='robin'),\n",
    "        diffusion=ConstantFunction(1., 1),\n",
    "        robin_data=(ConstantFunction(1., 1), ExpressionFunction('(x[...,0] < 1e-10) * 1.', 1)),\n",
    "        outputs=(('l2_boundary', ExpressionFunction('(x[...,0] > (1 - 1e-10)) * 1.', 1)),)\n",
    "    ),\n",
    "    ConstantFunction(0., 1),\n",
    "    T=3.\n",
    ")\n",
    "\n",
    "fom, _ = discretize_instationary_cg(p, diameter=1/100, nt=100)\n",
    "print(fom)"
   ]
  },
  {
   "cell_type": "markdown",
   "metadata": {},
   "source": [
    "### Visualize solution for constant input of 1"
   ]
  },
  {
   "cell_type": "code",
   "execution_count": null,
   "metadata": {},
   "outputs": [],
   "source": [
    "fom.visualize(fom.solve())"
   ]
  },
  {
   "cell_type": "markdown",
   "metadata": {},
   "source": [
    "### Convert to LTIModel"
   ]
  },
  {
   "cell_type": "code",
   "execution_count": null,
   "metadata": {},
   "outputs": [],
   "source": [
    "lti = fom.to_lti()\n",
    "print(lti)"
   ]
  },
  {
   "cell_type": "markdown",
   "metadata": {},
   "source": [
    "## System analysis"
   ]
  },
  {
   "cell_type": "code",
   "execution_count": null,
   "metadata": {},
   "outputs": [],
   "source": [
    "poles = lti.poles()\n",
    "fig, ax = plt.subplots()\n",
    "ax.plot(poles.real, poles.imag, '.')\n",
    "ax.set_title('System poles')\n",
    "plt.show()"
   ]
  },
  {
   "cell_type": "code",
   "execution_count": null,
   "metadata": {},
   "outputs": [],
   "source": [
    "w = np.logspace(-2, 3, 100)\n",
    "fig, ax = plt.subplots()\n",
    "lti.mag_plot(w, ax=ax)\n",
    "ax.set_title('Magnitude plot of the full model')\n",
    "plt.show()"
   ]
  },
  {
   "cell_type": "code",
   "execution_count": null,
   "metadata": {},
   "outputs": [],
   "source": [
    "hsv = lti.hsv()\n",
    "fig, ax = plt.subplots()\n",
    "ax.semilogy(range(1, len(hsv) + 1), hsv, '.-')\n",
    "ax.set_title('Hankel singular values')\n",
    "plt.show()"
   ]
  },
  {
   "cell_type": "code",
   "execution_count": null,
   "metadata": {},
   "outputs": [],
   "source": [
    "print(f'FOM H_2-norm:    {lti.h2_norm():e}')\n",
    "if config.HAVE_SLYCOT:\n",
    "    print(f'FOM H_inf-norm:  {lti.hinf_norm():e}')\n",
    "print(f'FOM Hankel-norm: {lti.hankel_norm():e}')"
   ]
  },
  {
   "cell_type": "markdown",
   "metadata": {},
   "source": [
    "## Balanced Truncation (BT)"
   ]
  },
  {
   "cell_type": "code",
   "execution_count": null,
   "metadata": {},
   "outputs": [],
   "source": [
    "r = 5\n",
    "bt_reductor = BTReductor(lti)\n",
    "rom_bt = bt_reductor.reduce(r, tol=1e-5)"
   ]
  },
  {
   "cell_type": "code",
   "execution_count": null,
   "metadata": {},
   "outputs": [],
   "source": [
    "err_bt = lti - rom_bt\n",
    "print(f'BT relative H_2-error:    {err_bt.h2_norm() / lti.h2_norm():e}')\n",
    "if config.HAVE_SLYCOT:\n",
    "    print(f'BT relative H_inf-error:  {err_bt.hinf_norm() / lti.hinf_norm():e}')\n",
    "print(f'BT relative Hankel-error: {err_bt.hankel_norm() / lti.hankel_norm():e}')"
   ]
  },
  {
   "cell_type": "code",
   "execution_count": null,
   "metadata": {},
   "outputs": [],
   "source": [
    "poles = rom_bt.poles()\n",
    "fig, ax = plt.subplots()\n",
    "ax.plot(poles.real, poles.imag, '.')\n",
    "ax.set_title('Poles of the BT reduced model')\n",
    "plt.show()"
   ]
  },
  {
   "cell_type": "code",
   "execution_count": null,
   "metadata": {},
   "outputs": [],
   "source": [
    "fig, ax = plt.subplots()\n",
    "lti.mag_plot(w, ax=ax)\n",
    "rom_bt.mag_plot(w, ax=ax, linestyle='dashed')\n",
    "ax.set_title('Magnitude plot of the full and BT reduced model')\n",
    "plt.show()"
   ]
  },
  {
   "cell_type": "code",
   "execution_count": null,
   "metadata": {},
   "outputs": [],
   "source": [
    "fig, ax = plt.subplots()\n",
    "err_bt.mag_plot(w, ax=ax)\n",
    "ax.set_title('Magnitude plot of the BT error system')\n",
    "plt.show()"
   ]
  },
  {
   "cell_type": "markdown",
   "metadata": {},
   "source": [
    "## LQG Balanced Truncation (LQGBT)"
   ]
  },
  {
   "cell_type": "code",
   "execution_count": null,
   "metadata": {},
   "outputs": [],
   "source": [
    "r = 5\n",
    "lqgbt_reductor = LQGBTReductor(lti)\n",
    "rom_lqgbt = lqgbt_reductor.reduce(r, tol=1e-5)"
   ]
  },
  {
   "cell_type": "code",
   "execution_count": null,
   "metadata": {},
   "outputs": [],
   "source": [
    "err_lqgbt = lti - rom_lqgbt\n",
    "print(f'LQGBT relative H_2-error:    {err_lqgbt.h2_norm() / lti.h2_norm():e}')\n",
    "if config.HAVE_SLYCOT:\n",
    "    print(f'LQGBT relative H_inf-error:  {err_lqgbt.hinf_norm() / lti.hinf_norm():e}')\n",
    "print(f'LQGBT relative Hankel-error: {err_lqgbt.hankel_norm() / lti.hankel_norm():e}')"
   ]
  },
  {
   "cell_type": "code",
   "execution_count": null,
   "metadata": {},
   "outputs": [],
   "source": [
    "poles = rom_lqgbt.poles()\n",
    "fig, ax = plt.subplots()\n",
    "ax.plot(poles.real, poles.imag, '.')\n",
    "ax.set_title('Poles of the LQGBT reduced model')\n",
    "plt.show()"
   ]
  },
  {
   "cell_type": "code",
   "execution_count": null,
   "metadata": {},
   "outputs": [],
   "source": [
    "fig, ax = plt.subplots()\n",
    "lti.mag_plot(w, ax=ax)\n",
    "rom_lqgbt.mag_plot(w, ax=ax, linestyle='dashed')\n",
    "ax.set_title('Magnitude plot of the full and LQGBT reduced model')\n",
    "plt.show()"
   ]
  },
  {
   "cell_type": "code",
   "execution_count": null,
   "metadata": {},
   "outputs": [],
   "source": [
    "fig, ax = plt.subplots()\n",
    "err_lqgbt.mag_plot(w, ax=ax)\n",
    "ax.set_title('Magnitude plot of the LGQBT error system')\n",
    "plt.show()"
   ]
  },
  {
   "cell_type": "markdown",
   "metadata": {},
   "source": [
    "## Bounded Real Balanced Truncation (BRBT)"
   ]
  },
  {
   "cell_type": "code",
   "execution_count": null,
   "metadata": {},
   "outputs": [],
   "source": [
    "r = 5\n",
    "brbt_reductor = BRBTReductor(lti, 0.34)\n",
    "rom_brbt = brbt_reductor.reduce(r, tol=1e-5)"
   ]
  },
  {
   "cell_type": "code",
   "execution_count": null,
   "metadata": {},
   "outputs": [],
   "source": [
    "err_brbt = lti - rom_brbt\n",
    "print(f'BRBT relative H_2-error:    {err_brbt.h2_norm() / lti.h2_norm():e}')\n",
    "if config.HAVE_SLYCOT:\n",
    "    print(f'BRBT relative H_inf-error:  {err_brbt.hinf_norm() / lti.hinf_norm():e}')\n",
    "print(f'BRBT relative Hankel-error: {err_brbt.hankel_norm() / lti.hankel_norm():e}')"
   ]
  },
  {
   "cell_type": "code",
   "execution_count": null,
   "metadata": {},
   "outputs": [],
   "source": [
    "poles = rom_brbt.poles()\n",
    "fig, ax = plt.subplots()\n",
    "ax.plot(poles.real, poles.imag, '.')\n",
    "ax.set_title('Poles of the BRBT reduced model')\n",
    "plt.show()"
   ]
  },
  {
   "cell_type": "code",
   "execution_count": null,
   "metadata": {},
   "outputs": [],
   "source": [
    "fig, ax = plt.subplots()\n",
    "lti.mag_plot(w, ax=ax)\n",
    "rom_brbt.mag_plot(w, ax=ax, linestyle='dashed')\n",
    "ax.set_title('Magnitude plot of the full and BRBT reduced model')\n",
    "plt.show()"
   ]
  },
  {
   "cell_type": "code",
   "execution_count": null,
   "metadata": {},
   "outputs": [],
   "source": [
    "fig, ax = plt.subplots()\n",
    "err_brbt.mag_plot(w, ax=ax)\n",
    "ax.set_title('Magnitude plot of the BRBT error system')\n",
    "plt.show()"
   ]
  },
  {
   "cell_type": "markdown",
   "metadata": {},
   "source": [
    "## Iterative Rational Krylov Algorithm (IRKA)"
   ]
  },
  {
   "cell_type": "code",
   "execution_count": null,
   "metadata": {
    "scrolled": true
   },
   "outputs": [],
   "source": [
    "r = 5\n",
    "irka_reductor = IRKAReductor(lti)\n",
    "rom_irka = irka_reductor.reduce(r)"
   ]
  },
  {
   "cell_type": "code",
   "execution_count": null,
   "metadata": {},
   "outputs": [],
   "source": [
    "fig, ax = plt.subplots()\n",
    "ax.semilogy(irka_reductor.conv_crit, '.-')\n",
    "ax.set_title('Distances between shifts in IRKA iterations')\n",
    "plt.show()"
   ]
  },
  {
   "cell_type": "code",
   "execution_count": null,
   "metadata": {},
   "outputs": [],
   "source": [
    "err_irka = lti - rom_irka\n",
    "print(f'IRKA relative H_2-error:    {err_irka.h2_norm() / lti.h2_norm():e}')\n",
    "if config.HAVE_SLYCOT:\n",
    "    print(f'IRKA relative H_inf-error:  {err_irka.hinf_norm() / lti.hinf_norm():e}')\n",
    "print(f'IRKA relative Hankel-error: {err_irka.hankel_norm() / lti.hankel_norm():e}')"
   ]
  },
  {
   "cell_type": "code",
   "execution_count": null,
   "metadata": {},
   "outputs": [],
   "source": [
    "poles = rom_irka.poles()\n",
    "fig, ax = plt.subplots()\n",
    "ax.plot(poles.real, poles.imag, '.')\n",
    "ax.set_title('Poles of the IRKA reduced model')\n",
    "plt.show()"
   ]
  },
  {
   "cell_type": "code",
   "execution_count": null,
   "metadata": {},
   "outputs": [],
   "source": [
    "fig, ax = plt.subplots()\n",
    "lti.mag_plot(w, ax=ax)\n",
    "rom_irka.mag_plot(w, ax=ax, linestyle='dashed')\n",
    "ax.set_title('Magnitude plot of the full and IRKA reduced model')\n",
    "plt.show()"
   ]
  },
  {
   "cell_type": "code",
   "execution_count": null,
   "metadata": {},
   "outputs": [],
   "source": [
    "fig, ax = plt.subplots()\n",
    "err_irka.mag_plot(w, ax=ax)\n",
    "ax.set_title('Magnitude plot of the IRKA error system')\n",
    "plt.show()"
   ]
  },
  {
   "cell_type": "markdown",
   "metadata": {},
   "source": [
    "## Two-Sided Iteration Algorithm (TSIA)"
   ]
  },
  {
   "cell_type": "code",
   "execution_count": null,
   "metadata": {
    "scrolled": true
   },
   "outputs": [],
   "source": [
    "r = 5\n",
    "tsia_reductor = TSIAReductor(lti)\n",
    "rom_tsia = tsia_reductor.reduce(r)"
   ]
  },
  {
   "cell_type": "code",
   "execution_count": null,
   "metadata": {},
   "outputs": [],
   "source": [
    "fig, ax = plt.subplots()\n",
    "ax.semilogy(tsia_reductor.conv_crit, '.-')\n",
    "ax.set_title('Distances between shifts in TSIA iterations')\n",
    "plt.show()"
   ]
  },
  {
   "cell_type": "code",
   "execution_count": null,
   "metadata": {},
   "outputs": [],
   "source": [
    "err_tsia = lti - rom_tsia\n",
    "print(f'TSIA relative H_2-error:    {err_tsia.h2_norm() / lti.h2_norm():e}')\n",
    "if config.HAVE_SLYCOT:\n",
    "    print(f'TSIA relative H_inf-error:  {err_tsia.hinf_norm() / lti.hinf_norm():e}')\n",
    "print(f'TSIA relative Hankel-error: {err_tsia.hankel_norm() / lti.hankel_norm():e}')"
   ]
  },
  {
   "cell_type": "code",
   "execution_count": null,
   "metadata": {},
   "outputs": [],
   "source": [
    "poles = rom_tsia.poles()\n",
    "fig, ax = plt.subplots()\n",
    "ax.plot(poles.real, poles.imag, '.')\n",
    "ax.set_title('Poles of the TSIA reduced model')\n",
    "plt.show()"
   ]
  },
  {
   "cell_type": "code",
   "execution_count": null,
   "metadata": {},
   "outputs": [],
   "source": [
    "fig, ax = plt.subplots()\n",
    "lti.mag_plot(w, ax=ax)\n",
    "rom_tsia.mag_plot(w, ax=ax, linestyle='dashed')\n",
    "ax.set_title('Magnitude plot of the full and TSIA reduced model')\n",
    "plt.show()"
   ]
  },
  {
   "cell_type": "code",
   "execution_count": null,
   "metadata": {},
   "outputs": [],
   "source": [
    "fig, ax = plt.subplots()\n",
    "err_tsia.mag_plot(w, ax=ax)\n",
    "ax.set_title('Magnitude plot of the TSIA error system')\n",
    "plt.show()"
   ]
  },
  {
   "cell_type": "markdown",
   "metadata": {},
   "source": [
    "## One-Sided IRKA"
   ]
  },
  {
   "cell_type": "code",
   "execution_count": null,
   "metadata": {
    "scrolled": true
   },
   "outputs": [],
   "source": [
    "r = 5\n",
    "one_sided_irka_reductor = OneSidedIRKAReductor(lti, 'V')\n",
    "rom_one_sided_irka = one_sided_irka_reductor.reduce(r)"
   ]
  },
  {
   "cell_type": "code",
   "execution_count": null,
   "metadata": {},
   "outputs": [],
   "source": [
    "fig, ax = plt.subplots()\n",
    "ax.semilogy(one_sided_irka_reductor.conv_crit, '.-')\n",
    "ax.set_title('Distances between shifts in one-sided IRKA iterations')\n",
    "plt.show()"
   ]
  },
  {
   "cell_type": "code",
   "execution_count": null,
   "metadata": {},
   "outputs": [],
   "source": [
    "fig, ax = plt.subplots()\n",
    "osirka_poles = rom_one_sided_irka.poles()\n",
    "ax.plot(osirka_poles.real, osirka_poles.imag, '.')\n",
    "ax.set_title('Poles of the one-sided IRKA ROM')\n",
    "plt.show()"
   ]
  },
  {
   "cell_type": "code",
   "execution_count": null,
   "metadata": {},
   "outputs": [],
   "source": [
    "err_one_sided_irka = lti - rom_one_sided_irka\n",
    "print(f'One-sided IRKA relative H_2-error:    {err_one_sided_irka.h2_norm() / lti.h2_norm():e}')\n",
    "if config.HAVE_SLYCOT:\n",
    "    print(f'One-sided IRKA relative H_inf-error:  {err_one_sided_irka.hinf_norm() / lti.hinf_norm():e}')\n",
    "print(f'One-sided IRKA relative Hankel-error: {err_one_sided_irka.hankel_norm() / lti.hankel_norm():e}')"
   ]
  },
  {
   "cell_type": "code",
   "execution_count": null,
   "metadata": {},
   "outputs": [],
   "source": [
    "fig, ax = plt.subplots()\n",
    "lti.mag_plot(w, ax=ax)\n",
    "rom_one_sided_irka.mag_plot(w, ax=ax, linestyle='dashed')\n",
    "ax.set_title('Magnitude plot of the full and one-sided IRKA reduced model')\n",
    "plt.show()"
   ]
  },
  {
   "cell_type": "code",
   "execution_count": null,
   "metadata": {},
   "outputs": [],
   "source": [
    "fig, ax = plt.subplots()\n",
    "err_one_sided_irka.mag_plot(w, ax=ax)\n",
    "ax.set_title('Magnitude plot of the one-sided IRKA error system')\n",
    "plt.show()"
   ]
  },
  {
   "cell_type": "markdown",
   "metadata": {},
   "source": [
    "## Transfer Function IRKA (TF-IRKA)\n",
    "\n",
    "Applying Laplace transformation to the original PDE formulation, we obtain a parametric boundary value problem\n",
    "$$\n",
    "\\begin{align*}\n",
    "    s \\hat{T}(z, s) & = \\partial_{zz} \\hat{T}(z, s), \\\\\n",
    "    \\partial_z \\hat{T}(0, s) & = \\hat{T}(0, s) - \\hat{u}(s), \\\\\n",
    "    \\partial_z \\hat{T}(1, s) & = -\\hat{T}(1, s), \\\\\n",
    "    \\hat{\\tilde{y}}(s) & = \\hat{T}(1, s),\n",
    "\\end{align*}\n",
    "$$\n",
    "where $\\hat{T}$, $\\hat{u}$, and $\\hat{\\tilde{y}}$ are respectively Laplace transforms of $T$, $u$, and $\\tilde{y}$.\n",
    "We assumed the initial condition to be zero ($T(z, 0) = 0$).\n",
    "The parameter $s$ is any complex number in the region convergence of the Laplace tranformation.\n",
    "\n",
    "Inserting $\\hat{T}(z, s) = c_1 \\exp\\left(\\sqrt{s} z\\right) + c_2 \\exp\\left(-\\sqrt{s} z\\right)$, from the boundary conditions we get a system of equations\n",
    "$$\n",
    "\\begin{align*}\n",
    "    \\left(\\sqrt{s} - 1\\right) c_1 - \\left(\\sqrt{s} + 1\\right) c_2 + \\hat{u}(s) & = 0, \\\\\n",
    "    \\left(\\sqrt{s} + 1\\right) \\exp\\left(\\sqrt{s}\\right) c_1 - \\left(\\sqrt{s} - 1\\right) \\exp\\left(-\\sqrt{s}\\right) c_2 & = 0.\n",
    "\\end{align*}\n",
    "$$\n",
    "We can solve it using `sympy` and then find the transfer function ($\\hat{\\tilde{y}}(s) / \\hat{u}(s)$)."
   ]
  },
  {
   "cell_type": "code",
   "execution_count": null,
   "metadata": {},
   "outputs": [],
   "source": [
    "import sympy as sy\n",
    "sy.init_printing(use_latex=False)\n",
    "\n",
    "sy_s, sy_u, sy_c1, sy_c2 = sy.symbols('s u c1 c2')\n",
    "\n",
    "sol = sy.solve([(sy.sqrt(sy_s) - 1) * sy_c1 - (sy.sqrt(sy_s) + 1) * sy_c2 + sy_u,\n",
    "                (sy.sqrt(sy_s) + 1) * sy.exp(sy.sqrt(sy_s)) * sy_c1 -\n",
    "                (sy.sqrt(sy_s) - 1) * sy.exp(-sy.sqrt(sy_s)) * sy_c2],\n",
    "               [sy_c1, sy_c2])\n",
    "\n",
    "y = sol[sy_c1] * sy.exp(sy.sqrt(sy_s)) + sol[sy_c2] * sy.exp(-sy.sqrt(sy_s))\n",
    "\n",
    "sy_tf = sy.simplify(y / sy_u)\n",
    "sy_tf"
   ]
  },
  {
   "cell_type": "markdown",
   "metadata": {},
   "source": [
    "Notice that for $s = 0$, the expression is of the form $0 / 0$."
   ]
  },
  {
   "cell_type": "code",
   "execution_count": null,
   "metadata": {},
   "outputs": [],
   "source": [
    "sy.limit(sy_tf, sy_s, 0)"
   ]
  },
  {
   "cell_type": "code",
   "execution_count": null,
   "metadata": {},
   "outputs": [],
   "source": [
    "sy_dtf = sy_tf.diff(sy_s)\n",
    "sy_dtf"
   ]
  },
  {
   "cell_type": "code",
   "execution_count": null,
   "metadata": {},
   "outputs": [],
   "source": [
    "sy.limit(sy_dtf, sy_s, 0)"
   ]
  },
  {
   "cell_type": "markdown",
   "metadata": {},
   "source": [
    "We can now form the transfer function system."
   ]
  },
  {
   "cell_type": "code",
   "execution_count": null,
   "metadata": {},
   "outputs": [],
   "source": [
    "def H(s):\n",
    "    if s == 0:\n",
    "        return np.array([[1 / 3]])\n",
    "    else:\n",
    "        return np.array([[complex(sy_tf.subs(sy_s, s))]])\n",
    "\n",
    "def dH(s):\n",
    "    if s == 0:\n",
    "        return np.array([[-13 / 54]])\n",
    "    else:\n",
    "        return np.array([[complex(sy_dtf.subs(sy_s, s))]])\n",
    "\n",
    "tf = TransferFunction(lti.input_space, lti.output_space, H, dH)\n",
    "print(tf)"
   ]
  },
  {
   "cell_type": "markdown",
   "metadata": {},
   "source": [
    "Here we compare it to the discretized system, by magnitude plot, $\\mathcal{H}_2$-norm, and $\\mathcal{H}_2$-distance."
   ]
  },
  {
   "cell_type": "code",
   "execution_count": null,
   "metadata": {},
   "outputs": [],
   "source": [
    "tf_lti_diff = tf - lti\n",
    "fig, ax = plt.subplots()\n",
    "tf_lti_diff.mag_plot(w, ax=ax)\n",
    "ax.set_title('Distance between PDE and discretized transfer function')\n",
    "plt.show()"
   ]
  },
  {
   "cell_type": "code",
   "execution_count": null,
   "metadata": {},
   "outputs": [],
   "source": [
    "print(f'TF H_2-norm  = {tf.h2_norm():e}')\n",
    "print(f'LTI H_2-norm = {lti.h2_norm():e}')"
   ]
  },
  {
   "cell_type": "code",
   "execution_count": null,
   "metadata": {},
   "outputs": [],
   "source": [
    "print(f'TF-LTI relative H_2-distance = {tf_lti_diff.h2_norm() / tf.h2_norm():e}')"
   ]
  },
  {
   "cell_type": "markdown",
   "metadata": {},
   "source": [
    "TF-IRKA finds a reduced model from the transfer function."
   ]
  },
  {
   "cell_type": "code",
   "execution_count": null,
   "metadata": {},
   "outputs": [],
   "source": [
    "tf_irka_reductor = TFIRKAReductor(tf)\n",
    "rom_tf_irka = tf_irka_reductor.reduce(r)"
   ]
  },
  {
   "cell_type": "code",
   "execution_count": null,
   "metadata": {},
   "outputs": [],
   "source": [
    "fig, ax = plt.subplots()\n",
    "tfirka_poles = rom_tf_irka.poles()\n",
    "ax.plot(tfirka_poles.real, tfirka_poles.imag, '.')\n",
    "ax.set_title('Poles of the TF-IRKA ROM')\n",
    "plt.show()"
   ]
  },
  {
   "cell_type": "markdown",
   "metadata": {},
   "source": [
    "Here we compute the $\\mathcal{H}_2$-distance from the original PDE model to the TF-IRKA's reduced model and to the IRKA's reduced model."
   ]
  },
  {
   "cell_type": "code",
   "execution_count": null,
   "metadata": {},
   "outputs": [],
   "source": [
    "err_tf_irka = tf - rom_tf_irka\n",
    "print(f'TF-IRKA relative H_2-error = {err_tf_irka.h2_norm() / tf.h2_norm():e}')"
   ]
  },
  {
   "cell_type": "code",
   "execution_count": null,
   "metadata": {},
   "outputs": [],
   "source": [
    "err_irka_tf = tf - rom_irka\n",
    "print(f'IRKA relative H_2-error (from TF) = {err_irka_tf.h2_norm() / tf.h2_norm():e}')"
   ]
  }
 ],
 "metadata": {
  "kernelspec": {
   "display_name": "Python 3",
   "language": "python",
   "name": "python3"
  },
  "language_info": {
   "codemirror_mode": {
    "name": "ipython",
    "version": 3
   },
   "file_extension": ".py",
   "mimetype": "text/x-python",
   "name": "python",
   "nbconvert_exporter": "python",
   "pygments_lexer": "ipython3",
   "version": "3.6.8"
  }
 },
 "nbformat": 4,
 "nbformat_minor": 2
}
