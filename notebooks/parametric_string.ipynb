{
 "cells": [
  {
   "cell_type": "raw",
   "metadata": {},
   "source": [
    "This file is part of the pyMOR project (http://www.pymor.org).\n",
    "Copyright 2013-2019 pyMOR developers and contributors. All rights reserved.\n",
    "License: BSD 2-Clause License (http://opensource.org/licenses/BSD-2-Clause)"
   ]
  },
  {
   "cell_type": "markdown",
   "metadata": {},
   "source": [
    "# Parametric string equation example"
   ]
  },
  {
   "cell_type": "markdown",
   "metadata": {},
   "source": [
    "## Import modules"
   ]
  },
  {
   "cell_type": "code",
   "execution_count": null,
   "metadata": {},
   "outputs": [],
   "source": [
    "import numpy as np\n",
    "import scipy.sparse as sps\n",
    "import matplotlib.pyplot as plt\n",
    "\n",
    "from pymor.basic import *\n",
    "from pymor.core.config import config\n",
    "\n",
    "from pymor.core.logger import set_log_levels\n",
    "set_log_levels({'pymor.algorithms.gram_schmidt.gram_schmidt': 'WARNING'})"
   ]
  },
  {
   "cell_type": "markdown",
   "metadata": {},
   "source": [
    "## Assemble $M$, $D$, $K$, $B$, $C_p$"
   ]
  },
  {
   "cell_type": "code",
   "execution_count": null,
   "metadata": {},
   "outputs": [],
   "source": [
    "n2 = 50\n",
    "n = 2 * n2 - 1  # dimension of the system\n",
    "\n",
    "k = 0.01   # stiffness\n",
    "\n",
    "M = sps.eye(n, format='csc')\n",
    "\n",
    "E = sps.eye(n, format='csc')\n",
    "\n",
    "K = sps.diags([n * [2 * k * n ** 2],\n",
    "               (n - 1) * [-k * n ** 2],\n",
    "               (n - 1) * [-k * n ** 2]],\n",
    "              [0, -1, 1],\n",
    "              format='csc')\n",
    "\n",
    "B = np.zeros((n, 1))\n",
    "B[n2 - 1, 0] = n\n",
    "\n",
    "Cp = np.zeros((1, n))\n",
    "Cp[0, n2 - 1] = 1"
   ]
  },
  {
   "cell_type": "markdown",
   "metadata": {},
   "source": [
    "## Second-order system"
   ]
  },
  {
   "cell_type": "code",
   "execution_count": null,
   "metadata": {},
   "outputs": [],
   "source": [
    "Mop = NumpyMatrixOperator(M)\n",
    "Eop = NumpyMatrixOperator(E) * ProjectionParameterFunctional('damping', ())\n",
    "Kop = NumpyMatrixOperator(K)\n",
    "Bop = NumpyMatrixOperator(B)\n",
    "Cpop = NumpyMatrixOperator(Cp)"
   ]
  },
  {
   "cell_type": "code",
   "execution_count": null,
   "metadata": {},
   "outputs": [],
   "source": [
    "so_sys = SecondOrderModel(Mop, Eop, Kop, Bop, Cpop)"
   ]
  },
  {
   "cell_type": "code",
   "execution_count": null,
   "metadata": {},
   "outputs": [],
   "source": [
    "print(f'order of the model = {so_sys.order}')\n",
    "print(f'number of inputs   = {so_sys.input_dim}')\n",
    "print(f'number of outputs  = {so_sys.output_dim}')"
   ]
  },
  {
   "cell_type": "code",
   "execution_count": null,
   "metadata": {},
   "outputs": [],
   "source": [
    "mu_list = [1, 5, 10]"
   ]
  },
  {
   "cell_type": "code",
   "execution_count": null,
   "metadata": {},
   "outputs": [],
   "source": [
    "fig, ax = plt.subplots()\n",
    "\n",
    "for mu in mu_list:\n",
    "    poles = so_sys.poles(mu=mu)\n",
    "    ax.plot(poles.real, poles.imag, '.', label=fr'$\\mu = {mu}$')\n",
    "ax.set_title('System poles')\n",
    "ax.legend()\n",
    "plt.show()"
   ]
  },
  {
   "cell_type": "code",
   "execution_count": null,
   "metadata": {},
   "outputs": [],
   "source": [
    "w = np.logspace(-3, 2, 200)\n",
    "\n",
    "fig, ax = plt.subplots()\n",
    "for mu in mu_list:\n",
    "    so_sys.mag_plot(w, ax=ax, mu=mu, label=fr'$\\mu = {mu}$')\n",
    "ax.set_title('Bode plot of the full model')\n",
    "ax.legend()\n",
    "plt.show()"
   ]
  },
  {
   "cell_type": "code",
   "execution_count": null,
   "metadata": {},
   "outputs": [],
   "source": [
    "fig, ax = plt.subplots(2, 2, figsize=(12, 8), sharey=True)\n",
    "for mu in mu_list:\n",
    "    psv = so_sys.psv(mu=mu)\n",
    "    vsv = so_sys.vsv(mu=mu)\n",
    "    pvsv = so_sys.pvsv(mu=mu)\n",
    "    vpsv = so_sys.vpsv(mu=mu)\n",
    "    ax[0, 0].semilogy(range(1, len(psv) + 1), psv, '.-', label=fr'$\\mu = {mu}$')\n",
    "    ax[0, 1].semilogy(range(1, len(vsv) + 1), vsv, '.-')\n",
    "    ax[1, 0].semilogy(range(1, len(pvsv) + 1), pvsv, '.-')\n",
    "    ax[1, 1].semilogy(range(1, len(vpsv) + 1), vpsv, '.-')\n",
    "ax[0, 0].set_title('Position singular values')\n",
    "ax[0, 1].set_title('Velocity singular values')\n",
    "ax[1, 0].set_title('Position-velocity singular values')\n",
    "ax[1, 1].set_title('Velocity-position singular values')\n",
    "fig.legend(loc='upper center', ncol=len(mu_list))\n",
    "plt.show()"
   ]
  },
  {
   "cell_type": "code",
   "execution_count": null,
   "metadata": {},
   "outputs": [],
   "source": [
    "for mu in mu_list:\n",
    "    print(f'mu = {mu}:')\n",
    "    print(f'    H_2-norm of the full model:    {so_sys.h2_norm(mu=mu):e}')\n",
    "    if config.HAVE_SLYCOT:\n",
    "        print(f'    H_inf-norm of the full model:  {so_sys.hinf_norm(mu=mu):e}')\n",
    "    print(f'    Hankel-norm of the full model: {so_sys.hankel_norm(mu=mu):e}')"
   ]
  },
  {
   "cell_type": "markdown",
   "metadata": {},
   "source": [
    "## Position Second-Order Balanced Truncation (SOBTp)"
   ]
  },
  {
   "cell_type": "code",
   "execution_count": null,
   "metadata": {},
   "outputs": [],
   "source": [
    "r = 5\n",
    "roms_sobtp = []\n",
    "for mu in mu_list:\n",
    "    sobtp_reductor = SOBTpReductor(so_sys, mu=mu)\n",
    "    rom_sobtp = sobtp_reductor.reduce(r)\n",
    "    roms_sobtp.append(rom_sobtp)"
   ]
  },
  {
   "cell_type": "code",
   "execution_count": null,
   "metadata": {},
   "outputs": [],
   "source": [
    "fig, ax = plt.subplots()\n",
    "for rom_sobtp in roms_sobtp:\n",
    "    poles_rom_sobtp = rom_sobtp.poles()\n",
    "    ax.plot(poles_rom_sobtp.real, poles_rom_sobtp.imag, '.', label=fr'$\\mu = {mu}$')\n",
    "ax.set_title(\"SOBTp reduced model's poles\")\n",
    "plt.show()"
   ]
  },
  {
   "cell_type": "code",
   "execution_count": null,
   "metadata": {},
   "outputs": [],
   "source": [
    "for mu, rom_sobtp in zip(mu_list, roms_sobtp):\n",
    "    err_sobtp = so_sys - rom_sobtp\n",
    "    print(f'mu = {mu}')\n",
    "    print(f'    SOBTp relative H_2-error:    {err_sobtp.h2_norm(mu=mu) / so_sys.h2_norm(mu=mu):e}')\n",
    "    if config.HAVE_SLYCOT:\n",
    "        print(f'    SOBTp relative H_inf-error:  {err_sobtp.hinf_norm(mu=mu) / so_sys.hinf_norm(mu=mu):e}')\n",
    "    print(f'    SOBTp relative Hankel-error: {err_sobtp.hankel_norm(mu=mu) / so_sys.hankel_norm(mu=mu):e}')"
   ]
  },
  {
   "cell_type": "code",
   "execution_count": null,
   "metadata": {},
   "outputs": [],
   "source": [
    "fig, ax = plt.subplots()\n",
    "for mu, rom_sobtp in zip(mu_list, roms_sobtp):\n",
    "    rom_sobtp.mag_plot(w, ax=ax, label=fr'$\\mu = {mu}$')\n",
    "ax.set_title('Bode plot of SOBTp reduced models')\n",
    "ax.legend()\n",
    "plt.show()"
   ]
  },
  {
   "cell_type": "code",
   "execution_count": null,
   "metadata": {},
   "outputs": [],
   "source": [
    "fig, ax = plt.subplots()\n",
    "for mu, rom_sobtp in zip(mu_list, roms_sobtp):\n",
    "    (so_sys - rom_sobtp).mag_plot(w, ax=ax, mu=mu, label=fr'$\\mu = {mu}$')\n",
    "ax.set_title('Bode plot of the SOBTp error system')\n",
    "ax.legend()\n",
    "plt.show()"
   ]
  },
  {
   "cell_type": "markdown",
   "metadata": {},
   "source": [
    "## Velocity Second-Order Balanced Truncation (SOBTv)"
   ]
  },
  {
   "cell_type": "code",
   "execution_count": null,
   "metadata": {},
   "outputs": [],
   "source": [
    "r = 5\n",
    "roms_sobtv = []\n",
    "for mu in mu_list:\n",
    "    sobtv_reductor = SOBTvReductor(so_sys, mu=mu)\n",
    "    rom_sobtv = sobtv_reductor.reduce(r)\n",
    "    roms_sobtv.append(rom_sobtv)"
   ]
  },
  {
   "cell_type": "code",
   "execution_count": null,
   "metadata": {},
   "outputs": [],
   "source": [
    "fig, ax = plt.subplots()\n",
    "for rom_sobtv in roms_sobtv:\n",
    "    poles_rom_sobtv = rom_sobtv.poles()\n",
    "    ax.plot(poles_rom_sobtv.real, poles_rom_sobtv.imag, '.', label=fr'$\\mu = {mu}$')\n",
    "ax.set_title(\"SOBTv reduced model's poles\")\n",
    "plt.show()"
   ]
  },
  {
   "cell_type": "code",
   "execution_count": null,
   "metadata": {},
   "outputs": [],
   "source": [
    "for mu, rom_sobtv in zip(mu_list, roms_sobtv):\n",
    "    err_sobtv = so_sys - rom_sobtv\n",
    "    print(f'mu = {mu}')\n",
    "    print(f'    SOBTv relative H_2-error:    {err_sobtv.h2_norm(mu=mu) / so_sys.h2_norm(mu=mu):e}')\n",
    "    if config.HAVE_SLYCOT:\n",
    "        print(f'    SOBTv relative H_inf-error:  {err_sobtv.hinf_norm(mu=mu) / so_sys.hinf_norm(mu=mu):e}')\n",
    "    print(f'    SOBTv relative Hankel-error: {err_sobtv.hankel_norm(mu=mu) / so_sys.hankel_norm(mu=mu):e}')"
   ]
  },
  {
   "cell_type": "code",
   "execution_count": null,
   "metadata": {},
   "outputs": [],
   "source": [
    "fig, ax = plt.subplots()\n",
    "for mu, rom_sobtv in zip(mu_list, roms_sobtv):\n",
    "    rom_sobtv.mag_plot(w, ax=ax, label=fr'$\\mu = {mu}$')\n",
    "ax.set_title('Bode plot of SOBTv reduced models')\n",
    "ax.legend()\n",
    "plt.show()"
   ]
  },
  {
   "cell_type": "code",
   "execution_count": null,
   "metadata": {},
   "outputs": [],
   "source": [
    "fig, ax = plt.subplots()\n",
    "for mu, rom_sobtv in zip(mu_list, roms_sobtv):\n",
    "    (so_sys - rom_sobtv).mag_plot(w, ax=ax, mu=mu, label=fr'$\\mu = {mu}$')\n",
    "ax.set_title('Bode plot of the SOBTv error system')\n",
    "ax.legend()\n",
    "plt.show()"
   ]
  },
  {
   "cell_type": "markdown",
   "metadata": {},
   "source": [
    "## Position-Velocity Second-Order Balanced Truncation (SOBTpv)"
   ]
  },
  {
   "cell_type": "code",
   "execution_count": null,
   "metadata": {},
   "outputs": [],
   "source": [
    "r = 5\n",
    "roms_sobtpv = []\n",
    "for mu in mu_list:\n",
    "    sobtpv_reductor = SOBTpvReductor(so_sys, mu=mu)\n",
    "    rom_sobtpv = sobtpv_reductor.reduce(r)\n",
    "    roms_sobtpv.append(rom_sobtpv)"
   ]
  },
  {
   "cell_type": "code",
   "execution_count": null,
   "metadata": {},
   "outputs": [],
   "source": [
    "fig, ax = plt.subplots()\n",
    "for rom_sobtpv in roms_sobtpv:\n",
    "    poles_rom_sobtpv = rom_sobtpv.poles()\n",
    "    ax.plot(poles_rom_sobtpv.real, poles_rom_sobtpv.imag, '.', label=fr'$\\mu = {mu}$')\n",
    "ax.set_title(\"SOBTpv reduced model's poles\")\n",
    "plt.show()"
   ]
  },
  {
   "cell_type": "code",
   "execution_count": null,
   "metadata": {},
   "outputs": [],
   "source": [
    "for mu, rom_sobtpv in zip(mu_list, roms_sobtpv):\n",
    "    err_sobtpv = so_sys - rom_sobtpv\n",
    "    print(f'mu = {mu}')\n",
    "    print(f'    SOBTpv relative H_2-error:    {err_sobtpv.h2_norm(mu=mu) / so_sys.h2_norm(mu=mu):e}')\n",
    "    if config.HAVE_SLYCOT:\n",
    "        print(f'    SOBTpv relative H_inf-error:  {err_sobtpv.hinf_norm(mu=mu) / so_sys.hinf_norm(mu=mu):e}')\n",
    "    print(f'    SOBTpv relative Hankel-error: {err_sobtpv.hankel_norm(mu=mu) / so_sys.hankel_norm(mu=mu):e}')"
   ]
  },
  {
   "cell_type": "code",
   "execution_count": null,
   "metadata": {},
   "outputs": [],
   "source": [
    "fig, ax = plt.subplots()\n",
    "for mu, rom_sobtpv in zip(mu_list, roms_sobtpv):\n",
    "    rom_sobtpv.mag_plot(w, ax=ax, label=fr'$\\mu = {mu}$')\n",
    "ax.set_title('Bode plot of SOBTpv reduced models')\n",
    "ax.legend()\n",
    "plt.show()"
   ]
  },
  {
   "cell_type": "code",
   "execution_count": null,
   "metadata": {},
   "outputs": [],
   "source": [
    "fig, ax = plt.subplots()\n",
    "for mu, rom_sobtpv in zip(mu_list, roms_sobtpv):\n",
    "    (so_sys - rom_sobtpv).mag_plot(w, ax=ax, mu=mu, label=fr'$\\mu = {mu}$')\n",
    "ax.set_title('Bode plot of the SOBTpv error system')\n",
    "ax.legend()\n",
    "plt.show()"
   ]
  },
  {
   "cell_type": "markdown",
   "metadata": {},
   "source": [
    "## Velocity-Position Second-Order Balanced Truncation (SOBTvp)"
   ]
  },
  {
   "cell_type": "code",
   "execution_count": null,
   "metadata": {},
   "outputs": [],
   "source": [
    "r = 5\n",
    "roms_sobtvp = []\n",
    "for mu in mu_list:\n",
    "    sobtvp_reductor = SOBTvpReductor(so_sys, mu=mu)\n",
    "    rom_sobtvp = sobtvp_reductor.reduce(r)\n",
    "    roms_sobtvp.append(rom_sobtvp)"
   ]
  },
  {
   "cell_type": "code",
   "execution_count": null,
   "metadata": {},
   "outputs": [],
   "source": [
    "fig, ax = plt.subplots()\n",
    "for rom_sobtvp in roms_sobtvp:\n",
    "    poles_rom_sobtvp = rom_sobtvp.poles()\n",
    "    ax.plot(poles_rom_sobtvp.real, poles_rom_sobtvp.imag, '.', label=fr'$\\mu = {mu}$')\n",
    "ax.set_title(\"SOBTvp reduced model's poles\")\n",
    "plt.show()"
   ]
  },
  {
   "cell_type": "code",
   "execution_count": null,
   "metadata": {},
   "outputs": [],
   "source": [
    "for mu, rom_sobtvp in zip(mu_list, roms_sobtvp):\n",
    "    err_sobtvp = so_sys - rom_sobtvp\n",
    "    print(f'mu = {mu}')\n",
    "    print(f'    SOBTvp relative H_2-error:    {err_sobtvp.h2_norm(mu=mu) / so_sys.h2_norm(mu=mu):e}')\n",
    "    if config.HAVE_SLYCOT:\n",
    "        print(f'    SOBTvp relative H_inf-error:  {err_sobtvp.hinf_norm(mu=mu) / so_sys.hinf_norm(mu=mu):e}')\n",
    "    print(f'    SOBTvp relative Hankel-error: {err_sobtvp.hankel_norm(mu=mu) / so_sys.hankel_norm(mu=mu):e}')"
   ]
  },
  {
   "cell_type": "code",
   "execution_count": null,
   "metadata": {},
   "outputs": [],
   "source": [
    "fig, ax = plt.subplots()\n",
    "for mu, rom_sobtvp in zip(mu_list, roms_sobtvp):\n",
    "    rom_sobtvp.mag_plot(w, ax=ax, label=fr'$\\mu = {mu}$')\n",
    "ax.set_title('Bode plot of SOBTvp reduced models')\n",
    "ax.legend()\n",
    "plt.show()"
   ]
  },
  {
   "cell_type": "code",
   "execution_count": null,
   "metadata": {},
   "outputs": [],
   "source": [
    "fig, ax = plt.subplots()\n",
    "for mu, rom_sobtvp in zip(mu_list, roms_sobtvp):\n",
    "    (so_sys - rom_sobtvp).mag_plot(w, ax=ax, mu=mu, label=fr'$\\mu = {mu}$')\n",
    "ax.set_title('Bode plot of the SOBTvp error system')\n",
    "ax.legend()\n",
    "plt.show()"
   ]
  },
  {
   "cell_type": "markdown",
   "metadata": {},
   "source": [
    "## Free-Velocity Second-Order Balanced Truncation (SOBTfv)"
   ]
  },
  {
   "cell_type": "code",
   "execution_count": null,
   "metadata": {},
   "outputs": [],
   "source": [
    "r = 5\n",
    "roms_sobtfv = []\n",
    "for mu in mu_list:\n",
    "    sobtfv_reductor = SOBTfvReductor(so_sys, mu=mu)\n",
    "    rom_sobtfv = sobtfv_reductor.reduce(r)\n",
    "    roms_sobtfv.append(rom_sobtfv)"
   ]
  },
  {
   "cell_type": "code",
   "execution_count": null,
   "metadata": {},
   "outputs": [],
   "source": [
    "fig, ax = plt.subplots()\n",
    "for rom_sobtfv in roms_sobtfv:\n",
    "    poles_rom_sobtfv = rom_sobtfv.poles()\n",
    "    ax.plot(poles_rom_sobtfv.real, poles_rom_sobtfv.imag, '.', label=fr'$\\mu = {mu}$')\n",
    "ax.set_title(\"SOBTfv reduced model's poles\")\n",
    "plt.show()"
   ]
  },
  {
   "cell_type": "code",
   "execution_count": null,
   "metadata": {},
   "outputs": [],
   "source": [
    "for mu, rom_sobtfv in zip(mu_list, roms_sobtfv):\n",
    "    err_sobtfv = so_sys - rom_sobtfv\n",
    "    print(f'mu = {mu}')\n",
    "    print(f'    SOBTfv relative H_2-error:    {err_sobtfv.h2_norm(mu=mu) / so_sys.h2_norm(mu=mu):e}')\n",
    "    if config.HAVE_SLYCOT:\n",
    "        print(f'    SOBTfv relative H_inf-error:  {err_sobtfv.hinf_norm(mu=mu) / so_sys.hinf_norm(mu=mu):e}')\n",
    "    print(f'    SOBTfv relative Hankel-error: {err_sobtfv.hankel_norm(mu=mu) / so_sys.hankel_norm(mu=mu):e}')"
   ]
  },
  {
   "cell_type": "code",
   "execution_count": null,
   "metadata": {},
   "outputs": [],
   "source": [
    "fig, ax = plt.subplots()\n",
    "for mu, rom_sobtfv in zip(mu_list, roms_sobtfv):\n",
    "    rom_sobtfv.mag_plot(w, ax=ax, label=fr'$\\mu = {mu}$')\n",
    "ax.set_title('Bode plot of SOBTfv reduced models')\n",
    "ax.legend()\n",
    "plt.show()"
   ]
  },
  {
   "cell_type": "code",
   "execution_count": null,
   "metadata": {},
   "outputs": [],
   "source": [
    "fig, ax = plt.subplots()\n",
    "for mu, rom_sobtfv in zip(mu_list, roms_sobtfv):\n",
    "    (so_sys - rom_sobtfv).mag_plot(w, ax=ax, mu=mu, label=fr'$\\mu = {mu}$')\n",
    "ax.set_title('Bode plot of the SOBTfv error system')\n",
    "ax.legend()\n",
    "plt.show()"
   ]
  },
  {
   "cell_type": "markdown",
   "metadata": {},
   "source": [
    "## Second-Order Balanced Truncation (SOBT)"
   ]
  },
  {
   "cell_type": "code",
   "execution_count": null,
   "metadata": {},
   "outputs": [],
   "source": [
    "r = 5\n",
    "roms_sobt = []\n",
    "for mu in mu_list:\n",
    "    sobt_reductor = SOBTReductor(so_sys, mu=mu)\n",
    "    rom_sobt = sobt_reductor.reduce(r)\n",
    "    roms_sobt.append(rom_sobt)"
   ]
  },
  {
   "cell_type": "code",
   "execution_count": null,
   "metadata": {},
   "outputs": [],
   "source": [
    "fig, ax = plt.subplots()\n",
    "for rom_sobt in roms_sobt:\n",
    "    poles_rom_sobt = rom_sobt.poles()\n",
    "    ax.plot(poles_rom_sobt.real, poles_rom_sobt.imag, '.', label=fr'$\\mu = {mu}$')\n",
    "ax.set_title(\"SOBT reduced model's poles\")\n",
    "plt.show()"
   ]
  },
  {
   "cell_type": "code",
   "execution_count": null,
   "metadata": {},
   "outputs": [],
   "source": [
    "for mu, rom_sobt in zip(mu_list, roms_sobt):\n",
    "    err_sobt = so_sys - rom_sobt\n",
    "    print(f'mu = {mu}')\n",
    "    print(f'    SOBT relative H_2-error:    {err_sobt.h2_norm(mu=mu) / so_sys.h2_norm(mu=mu):e}')\n",
    "    if config.HAVE_SLYCOT:\n",
    "        print(f'    SOBT relative H_inf-error:  {err_sobt.hinf_norm(mu=mu) / so_sys.hinf_norm(mu=mu):e}')\n",
    "    print(f'    SOBT relative Hankel-error: {err_sobt.hankel_norm(mu=mu) / so_sys.hankel_norm(mu=mu):e}')"
   ]
  },
  {
   "cell_type": "code",
   "execution_count": null,
   "metadata": {},
   "outputs": [],
   "source": [
    "fig, ax = plt.subplots()\n",
    "for mu, rom_sobt in zip(mu_list, roms_sobt):\n",
    "    rom_sobt.mag_plot(w, ax=ax, label=fr'$\\mu = {mu}$')\n",
    "ax.set_title('Bode plot of SOBT reduced models')\n",
    "ax.legend()\n",
    "plt.show()"
   ]
  },
  {
   "cell_type": "code",
   "execution_count": null,
   "metadata": {},
   "outputs": [],
   "source": [
    "fig, ax = plt.subplots()\n",
    "for mu, rom_sobt in zip(mu_list, roms_sobt):\n",
    "    (so_sys - rom_sobt).mag_plot(w, ax=ax, mu=mu, label=fr'$\\mu = {mu}$')\n",
    "ax.set_title('Bode plot of the SOBT error system')\n",
    "ax.legend()\n",
    "plt.show()"
   ]
  },
  {
   "cell_type": "markdown",
   "metadata": {},
   "source": [
    "## Balanced Truncation (BT)"
   ]
  },
  {
   "cell_type": "code",
   "execution_count": null,
   "metadata": {},
   "outputs": [],
   "source": [
    "r = 5\n",
    "roms_bt = []\n",
    "for mu in mu_list:\n",
    "    bt_reductor = BTReductor(so_sys.to_lti(), mu=mu)\n",
    "    rom_bt = bt_reductor.reduce(r)\n",
    "    roms_bt.append(rom_bt)"
   ]
  },
  {
   "cell_type": "code",
   "execution_count": null,
   "metadata": {},
   "outputs": [],
   "source": [
    "fig, ax = plt.subplots()\n",
    "for rom_bt in roms_bt:\n",
    "    poles_rom_bt = rom_bt.poles()\n",
    "    ax.plot(poles_rom_bt.real, poles_rom_bt.imag, '.', label=fr'$\\mu = {mu}$')\n",
    "ax.set_title(\"BT reduced model's poles\")\n",
    "plt.show()"
   ]
  },
  {
   "cell_type": "code",
   "execution_count": null,
   "metadata": {},
   "outputs": [],
   "source": [
    "for mu, rom_bt in zip(mu_list, roms_bt):\n",
    "    err_bt = so_sys - rom_bt\n",
    "    print(f'mu = {mu}')\n",
    "    print(f'    BT relative H_2-error:    {err_bt.h2_norm(mu=mu) / so_sys.h2_norm(mu=mu):e}')\n",
    "    if config.HAVE_SLYCOT:\n",
    "        print(f'    BT relative H_inf-error:  {err_bt.hinf_norm(mu=mu) / so_sys.hinf_norm(mu=mu):e}')\n",
    "    print(f'    BT relative Hankel-error: {err_bt.hankel_norm(mu=mu) / so_sys.hankel_norm(mu=mu):e}')"
   ]
  },
  {
   "cell_type": "code",
   "execution_count": null,
   "metadata": {},
   "outputs": [],
   "source": [
    "fig, ax = plt.subplots()\n",
    "for mu, rom_bt in zip(mu_list, roms_bt):\n",
    "    rom_bt.mag_plot(w, ax=ax, label=fr'$\\mu = {mu}$')\n",
    "ax.set_title('Bode plot of BT reduced models')\n",
    "ax.legend()\n",
    "plt.show()"
   ]
  },
  {
   "cell_type": "code",
   "execution_count": null,
   "metadata": {},
   "outputs": [],
   "source": [
    "fig, ax = plt.subplots()\n",
    "for mu, rom_bt in zip(mu_list, roms_bt):\n",
    "    (so_sys - rom_bt).mag_plot(w, ax=ax, mu=mu, label=fr'$\\mu = {mu}$')\n",
    "ax.set_title('Bode plot of the BT error system')\n",
    "ax.legend()\n",
    "plt.show()"
   ]
  },
  {
   "cell_type": "markdown",
   "metadata": {},
   "source": [
    "## Iterative Rational Krylov Algorithm (IRKA)"
   ]
  },
  {
   "cell_type": "code",
   "execution_count": null,
   "metadata": {},
   "outputs": [],
   "source": [
    "r = 5\n",
    "roms_irka = []\n",
    "for mu in mu_list:\n",
    "    irka_reductor = IRKAReductor(so_sys.to_lti(), mu=mu)\n",
    "    rom_irka = irka_reductor.reduce(r)\n",
    "    roms_irka.append(rom_irka)"
   ]
  },
  {
   "cell_type": "code",
   "execution_count": null,
   "metadata": {},
   "outputs": [],
   "source": [
    "fig, ax = plt.subplots()\n",
    "for rom_irka in roms_irka:\n",
    "    poles_rom_irka = rom_irka.poles()\n",
    "    ax.plot(poles_rom_irka.real, poles_rom_irka.imag, '.', label=fr'$\\mu = {mu}$')\n",
    "ax.set_title(\"IRKA reduced model's poles\")\n",
    "plt.show()"
   ]
  },
  {
   "cell_type": "code",
   "execution_count": null,
   "metadata": {},
   "outputs": [],
   "source": [
    "for mu, rom_irka in zip(mu_list, roms_irka):\n",
    "    err_irka = so_sys - rom_irka\n",
    "    print(f'mu = {mu}')\n",
    "    print(f'    IRKA relative H_2-error:    {err_irka.h2_norm(mu=mu) / so_sys.h2_norm(mu=mu):e}')\n",
    "    if config.HAVE_SLYCOT:\n",
    "        print(f'    IRKA relative H_inf-error:  {err_irka.hinf_norm(mu=mu) / so_sys.hinf_norm(mu=mu):e}')\n",
    "    print(f'    IRKA relative Hankel-error: {err_irka.hankel_norm(mu=mu) / so_sys.hankel_norm(mu=mu):e}')"
   ]
  },
  {
   "cell_type": "code",
   "execution_count": null,
   "metadata": {},
   "outputs": [],
   "source": [
    "fig, ax = plt.subplots()\n",
    "for mu, rom_irka in zip(mu_list, roms_irka):\n",
    "    rom_irka.mag_plot(w, ax=ax, label=fr'$\\mu = {mu}$')\n",
    "ax.set_title('Bode plot of IRKA reduced models')\n",
    "ax.legend()\n",
    "plt.show()"
   ]
  },
  {
   "cell_type": "code",
   "execution_count": null,
   "metadata": {},
   "outputs": [],
   "source": [
    "fig, ax = plt.subplots()\n",
    "for mu, rom_irka in zip(mu_list, roms_irka):\n",
    "    (so_sys - rom_irka).mag_plot(w, ax=ax, mu=mu, label=fr'$\\mu = {mu}$')\n",
    "ax.set_title('Bode plot of the IRKA error system')\n",
    "ax.legend()\n",
    "plt.show()"
   ]
  },
  {
   "cell_type": "markdown",
   "metadata": {},
   "source": [
    "## Second-Order Iterative Rational Krylov Algorithm (SOR-IRKA)"
   ]
  },
  {
   "cell_type": "code",
   "execution_count": null,
   "metadata": {},
   "outputs": [],
   "source": [
    "r = 5\n",
    "roms_sor_irka = []\n",
    "for mu in mu_list:\n",
    "    sor_irka_reductor = SORIRKAReductor(so_sys, mu=mu)\n",
    "    rom_sor_irka = sor_irka_reductor.reduce(r)\n",
    "    roms_sor_irka.append(rom_sor_irka)"
   ]
  },
  {
   "cell_type": "code",
   "execution_count": null,
   "metadata": {},
   "outputs": [],
   "source": [
    "fig, ax = plt.subplots()\n",
    "for rom_sor_irka in roms_sor_irka:\n",
    "    poles_rom_sor_irka = rom_sor_irka.poles()\n",
    "    ax.plot(poles_rom_sor_irka.real, poles_rom_sor_irka.imag, '.', label=fr'$\\mu = {mu}$')\n",
    "ax.set_title(\"SORIRKA reduced model's poles\")\n",
    "plt.show()"
   ]
  },
  {
   "cell_type": "code",
   "execution_count": null,
   "metadata": {},
   "outputs": [],
   "source": [
    "for mu, rom_sor_irka in zip(mu_list, roms_sor_irka):\n",
    "    err_sor_irka = so_sys - rom_sor_irka\n",
    "    print(f'mu = {mu}')\n",
    "    print(f'    SORIRKA relative H_2-error:    {err_sor_irka.h2_norm(mu=mu) / so_sys.h2_norm(mu=mu):e}')\n",
    "    if config.HAVE_SLYCOT:\n",
    "        print(f'    SORIRKA relative H_inf-error:  {err_sor_irka.hinf_norm(mu=mu) / so_sys.hinf_norm(mu=mu):e}')\n",
    "    print(f'    SORIRKA relative Hankel-error: {err_sor_irka.hankel_norm(mu=mu) / so_sys.hankel_norm(mu=mu):e}')"
   ]
  },
  {
   "cell_type": "code",
   "execution_count": null,
   "metadata": {},
   "outputs": [],
   "source": [
    "fig, ax = plt.subplots()\n",
    "for mu, rom_sor_irka in zip(mu_list, roms_sor_irka):\n",
    "    rom_sor_irka.mag_plot(w, ax=ax, label=fr'$\\mu = {mu}$')\n",
    "ax.set_title('Bode plot of SORIRKA reduced models')\n",
    "ax.legend()\n",
    "plt.show()"
   ]
  },
  {
   "cell_type": "code",
   "execution_count": null,
   "metadata": {},
   "outputs": [],
   "source": [
    "fig, ax = plt.subplots()\n",
    "for mu, rom_sor_irka in zip(mu_list, roms_sor_irka):\n",
    "    (so_sys - rom_sor_irka).mag_plot(w, ax=ax, mu=mu, label=fr'$\\mu = {mu}$')\n",
    "ax.set_title('Bode plot of the SORIRKA error system')\n",
    "ax.legend()\n",
    "plt.show()"
   ]
  }
 ],
 "metadata": {
  "kernelspec": {
   "display_name": "Python 3",
   "language": "python",
   "name": "python3"
  },
  "language_info": {
   "codemirror_mode": {
    "name": "ipython",
    "version": 3
   },
   "file_extension": ".py",
   "mimetype": "text/x-python",
   "name": "python",
   "nbconvert_exporter": "python",
   "pygments_lexer": "ipython3",
   "version": "3.6.8"
  }
 },
 "nbformat": 4,
 "nbformat_minor": 1
}
