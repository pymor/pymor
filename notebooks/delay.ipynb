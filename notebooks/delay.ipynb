{
 "cells": [
  {
   "cell_type": "raw",
   "metadata": {},
   "source": []
  },
  {
   "cell_type": "markdown",
   "metadata": {},
   "source": [
    "# Delayed Feedback Heat Equation"
   ]
  },
  {
   "cell_type": "markdown",
   "metadata": {},
   "source": [
    "## Create heat equation model"
   ]
  },
  {
   "cell_type": "code",
   "execution_count": null,
   "metadata": {},
   "outputs": [],
   "source": [
    "import numpy as np\n",
    "import scipy.linalg as spla\n",
    "import scipy.sparse as sps\n",
    "import matplotlib.pyplot as plt\n",
    "\n",
    "from pymor.basic import *\n",
    "from pymor.models.iosys import LinearDelayModel\n",
    "from pymor.reductors.interpolation import DelayBHIReductor, TFBHIReductor"
   ]
  },
  {
   "cell_type": "code",
   "execution_count": null,
   "metadata": {},
   "outputs": [],
   "source": [
    "p = InstationaryProblem(\n",
    "    StationaryProblem(\n",
    "        domain=LineDomain([0.,1.], left='robin', right='robin'),\n",
    "        diffusion=ConstantFunction(1., 1),\n",
    "        robin_data=(ConstantFunction(1., 1), ExpressionFunction('(x[...,0] < 1e-10) * 1.', 1)),\n",
    "        outputs=(('l2_boundary', ExpressionFunction('(x[...,0] > (1 - 1e-10)) * 1.', 1)),)\n",
    "    ),\n",
    "    ConstantFunction(0., 1),\n",
    "    T=3.\n",
    ")\n",
    "\n",
    "fom, _ = discretize_instationary_cg(p, diameter=1/100, nt=100)"
   ]
  },
  {
   "cell_type": "code",
   "execution_count": null,
   "metadata": {},
   "outputs": [],
   "source": [
    "lti = fom.to_lti()"
   ]
  },
  {
   "cell_type": "markdown",
   "metadata": {},
   "source": [
    "## Add delayed feedback from output to input"
   ]
  },
  {
   "cell_type": "code",
   "execution_count": null,
   "metadata": {},
   "outputs": [],
   "source": [
    "tau = 1.\n",
    "g = 5.\n",
    "Atau = sps.coo_matrix(([g], ([0], [lti.order - 1])), (lti.order, lti.order)).tocsc()\n",
    "Atau = NumpyMatrixOperator(Atau, source_id=lti.solution_space.id, range_id=lti.solution_space.id)\n",
    "td_lti = LinearDelayModel(lti.A, (Atau,), (tau,), lti.B, lti.C, E=lti.E)\n",
    "print(td_lti)"
   ]
  },
  {
   "cell_type": "code",
   "execution_count": null,
   "metadata": {},
   "outputs": [],
   "source": [
    "fig, ax = plt.subplots()\n",
    "w = np.logspace(-1, 2.5, 500)\n",
    "td_lti.mag_plot(w, ax=ax)\n",
    "ax.set_title('Magnitude plot of the FOM')\n",
    "plt.show()"
   ]
  },
  {
   "cell_type": "markdown",
   "metadata": {},
   "source": [
    "## Unstructured Hermite interpolation"
   ]
  },
  {
   "cell_type": "code",
   "execution_count": null,
   "metadata": {},
   "outputs": [],
   "source": [
    "interp = TFBHIReductor(td_lti)"
   ]
  },
  {
   "cell_type": "code",
   "execution_count": null,
   "metadata": {},
   "outputs": [],
   "source": [
    "r = 3\n",
    "sigma = np.logspace(0, 1, r)\n",
    "sigma = np.concatenate((1j * sigma, -1j * sigma))\n",
    "b = td_lti.input_space.ones(2 * r)\n",
    "c = td_lti.output_space.ones(2 * r)\n",
    "\n",
    "rom = interp.reduce(sigma, b, c)\n",
    "err_rom = td_lti - rom"
   ]
  },
  {
   "cell_type": "code",
   "execution_count": null,
   "metadata": {},
   "outputs": [],
   "source": [
    "fig, ax = plt.subplots()\n",
    "td_lti.mag_plot(w, ax=ax)\n",
    "rom.mag_plot(w, ax=ax)\n",
    "ax.set_title('Magnitude plot of the FOM and ROM')\n",
    "plt.show()"
   ]
  },
  {
   "cell_type": "code",
   "execution_count": null,
   "metadata": {},
   "outputs": [],
   "source": [
    "fig, ax = plt.subplots()\n",
    "err_rom.mag_plot(w, ax=ax)\n",
    "ax.set_title('Magnitude plot of the error')\n",
    "plt.show()"
   ]
  },
  {
   "cell_type": "markdown",
   "metadata": {},
   "source": [
    "## Delay-preserving reduction by Hermite interpolation"
   ]
  },
  {
   "cell_type": "code",
   "execution_count": null,
   "metadata": {},
   "outputs": [],
   "source": [
    "delay_interp = DelayBHIReductor(td_lti)"
   ]
  },
  {
   "cell_type": "code",
   "execution_count": null,
   "metadata": {},
   "outputs": [],
   "source": [
    "td_rom = delay_interp.reduce(sigma, b, c)\n",
    "err_td_rom = td_lti - td_rom"
   ]
  },
  {
   "cell_type": "code",
   "execution_count": null,
   "metadata": {},
   "outputs": [],
   "source": [
    "fig, ax = plt.subplots()\n",
    "td_lti.mag_plot(w, ax=ax)\n",
    "rom.mag_plot(w, ax=ax)\n",
    "td_rom.mag_plot(w, ax=ax)\n",
    "ax.set_title('Magnitude plot of the FOM and ROMs')\n",
    "plt.show()"
   ]
  },
  {
   "cell_type": "code",
   "execution_count": null,
   "metadata": {},
   "outputs": [],
   "source": [
    "fig, ax = plt.subplots()\n",
    "err_rom.mag_plot(w, ax=ax, color='tab:orange')\n",
    "err_td_rom.mag_plot(w, ax=ax, color='tab:green')\n",
    "ax.set_title('Magnitude plot of the errors')\n",
    "plt.show()"
   ]
  }
 ],
 "metadata": {
  "kernelspec": {
   "display_name": "Python 3",
   "language": "python",
   "name": "python3"
  },
  "language_info": {
   "codemirror_mode": {
    "name": "ipython",
    "version": 3
   },
   "file_extension": ".py",
   "mimetype": "text/x-python",
   "name": "python",
   "nbconvert_exporter": "python",
   "pygments_lexer": "ipython3",
   "version": "3.6.8"
  }
 },
 "nbformat": 4,
 "nbformat_minor": 2
}
