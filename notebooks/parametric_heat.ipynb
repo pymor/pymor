{
 "cells": [
  {
   "cell_type": "raw",
   "metadata": {},
   "source": [
    "This file is part of the pyMOR project (http://www.pymor.org).\n",
    "Copyright 2013-2020 pyMOR developers and contributors. All rights reserved.\n",
    "License: BSD 2-Clause License (http://opensource.org/licenses/BSD-2-Clause)"
   ]
  },
  {
   "cell_type": "code",
   "execution_count": null,
   "metadata": {},
   "outputs": [],
   "source": [
    "%matplotlib notebook"
   ]
  },
  {
   "cell_type": "code",
   "execution_count": null,
   "metadata": {},
   "outputs": [],
   "source": [
    "import numpy as np\n",
    "import scipy.linalg as spla\n",
    "import matplotlib.pyplot as plt\n",
    "import matplotlib as mpl\n",
    "\n",
    "from pymor.basic import *\n",
    "from pymor.core.config import config\n",
    "\n",
    "from pymor.core.logger import set_log_levels\n",
    "set_log_levels({'pymor.algorithms.gram_schmidt.gram_schmidt': 'WARNING'})\n",
    "\n",
    "set_defaults({'pymor.discretizers.builtin.gui.jupyter.get_visualizer.backend': 'not pythreejs'})"
   ]
  },
  {
   "cell_type": "markdown",
   "metadata": {},
   "source": [
    "# Model"
   ]
  },
  {
   "cell_type": "code",
   "execution_count": null,
   "metadata": {
    "scrolled": true
   },
   "outputs": [],
   "source": [
    "p = InstationaryProblem(\n",
    "    StationaryProblem(\n",
    "        domain=LineDomain([0.,1.], left='robin', right='robin'),\n",
    "        diffusion=LincombFunction([ExpressionFunction('(x[...,0] <= 0.5) * 1.', 1),\n",
    "                                   ExpressionFunction('(0.5 < x[...,0]) * 1.', 1)],\n",
    "                                  [1,\n",
    "                                   ProjectionParameterFunctional('diffusion')]),\n",
    "        robin_data=(ConstantFunction(1., 1), ExpressionFunction('(x[...,0] < 1e-10) * 1.', 1)),\n",
    "        outputs=(('l2_boundary', ExpressionFunction('(x[...,0] > (1 - 1e-10)) * 1.', 1)),),\n",
    "    ),\n",
    "    ConstantFunction(0., 1),\n",
    "    T=3.\n",
    ")\n",
    "\n",
    "fom, _ = discretize_instationary_cg(p, diameter=1/100, nt=100)"
   ]
  },
  {
   "cell_type": "code",
   "execution_count": null,
   "metadata": {},
   "outputs": [],
   "source": [
    "fom.visualize(fom.solve(mu=0.1))"
   ]
  },
  {
   "cell_type": "code",
   "execution_count": null,
   "metadata": {},
   "outputs": [],
   "source": [
    "fom.visualize(fom.solve(mu=1))"
   ]
  },
  {
   "cell_type": "code",
   "execution_count": null,
   "metadata": {},
   "outputs": [],
   "source": [
    "fom.visualize(fom.solve(mu=10))"
   ]
  },
  {
   "cell_type": "code",
   "execution_count": null,
   "metadata": {},
   "outputs": [],
   "source": [
    "lti = fom.to_lti()"
   ]
  },
  {
   "cell_type": "markdown",
   "metadata": {},
   "source": [
    "# System analysis"
   ]
  },
  {
   "cell_type": "code",
   "execution_count": null,
   "metadata": {},
   "outputs": [],
   "source": [
    "print(f'order of the model = {lti.order}')\n",
    "print(f'number of inputs   = {lti.input_dim}')\n",
    "print(f'number of outputs  = {lti.output_dim}')"
   ]
  },
  {
   "cell_type": "code",
   "execution_count": null,
   "metadata": {},
   "outputs": [],
   "source": [
    "mu_list = [0.1, 1, 10]\n",
    "\n",
    "fig, ax = plt.subplots(len(mu_list), 1, sharex=True, sharey=True)\n",
    "for i, mu in enumerate(mu_list):\n",
    "    poles = lti.poles(mu=mu)\n",
    "    ax[i].plot(poles.real, poles.imag, '.')\n",
    "    ax[i].set_xscale('symlog')\n",
    "    ax[i].set_title(fr'$\\mu = {mu}$')\n",
    "fig.suptitle('System poles')\n",
    "fig.subplots_adjust(hspace=0.5)\n",
    "plt.show()"
   ]
  },
  {
   "cell_type": "code",
   "execution_count": null,
   "metadata": {},
   "outputs": [],
   "source": [
    "mu_list = [0.1, 1, 10]\n",
    "\n",
    "fig, ax = plt.subplots()\n",
    "w = np.logspace(-1, 3, 100)\n",
    "for mu in mu_list:\n",
    "    lti.mag_plot(w, ax=ax, mu=mu, label=fr'$\\mu = {mu}$')\n",
    "ax.legend()\n",
    "plt.show()"
   ]
  },
  {
   "cell_type": "code",
   "execution_count": null,
   "metadata": {},
   "outputs": [],
   "source": [
    "w_list = np.logspace(-1, 3, 100)\n",
    "mu_list = np.logspace(-1, 1, 20)\n",
    "\n",
    "lti_w_mu = np.zeros((len(w_list), len(mu_list)))\n",
    "for i, mu in enumerate(mu_list):\n",
    "    lti_w_mu[:, i] = spla.norm(lti.freq_resp(w, mu=mu), axis=(1, 2))"
   ]
  },
  {
   "cell_type": "code",
   "execution_count": null,
   "metadata": {},
   "outputs": [],
   "source": [
    "fig, ax = plt.subplots()\n",
    "out = ax.contourf(w_list, mu_list, lti_w_mu.T,\n",
    "                  norm=mpl.colors.LogNorm(),\n",
    "                  levels=np.logspace(-16, np.log10(lti_w_mu.max()), 100))\n",
    "ax.set_xlabel(r'Frequency $\\omega$')\n",
    "ax.set_ylabel(r'Parameter $\\mu$')\n",
    "ax.set_xscale('log')\n",
    "ax.set_yscale('log')\n",
    "fig.colorbar(out, ticks=np.logspace(-16, 0, 17))\n",
    "plt.show()"
   ]
  },
  {
   "cell_type": "code",
   "execution_count": null,
   "metadata": {},
   "outputs": [],
   "source": [
    "mu_list = [0.1, 1, 10]\n",
    "\n",
    "fig, ax = plt.subplots()\n",
    "for mu in mu_list:\n",
    "    hsv = lti.hsv(mu=mu)\n",
    "    ax.semilogy(range(1, len(hsv) + 1), hsv, label=fr'$\\mu = {mu}$')\n",
    "ax.set_title('Hankel singular values')\n",
    "ax.legend()\n",
    "plt.show()"
   ]
  },
  {
   "cell_type": "code",
   "execution_count": null,
   "metadata": {},
   "outputs": [],
   "source": [
    "fig, ax = plt.subplots()\n",
    "mu_fine = np.logspace(-1, 1, 20)\n",
    "h2_norm_mu = [lti.h2_norm(mu=mu) for mu in mu_fine]\n",
    "ax.plot(mu_fine, h2_norm_mu, label=r'$\\mathcal{H}_2$-norm')\n",
    "\n",
    "if config.HAVE_SLYCOT:\n",
    "    hinf_norm_mu = [lti.hinf_norm(mu=mu) for mu in mu_fine]\n",
    "    ax.plot(mu_fine, hinf_norm_mu, label=r'$\\mathcal{H}_\\infty$-norm')\n",
    "\n",
    "hankel_norm_mu = [lti.hankel_norm(mu=mu) for mu in mu_fine]\n",
    "ax.plot(mu_fine, hankel_norm_mu, label='Hankel norm')\n",
    "\n",
    "ax.set_xlabel(r'$\\mu$')\n",
    "ax.set_title('System norms')\n",
    "ax.legend()\n",
    "plt.show()"
   ]
  },
  {
   "cell_type": "markdown",
   "metadata": {},
   "source": [
    "# Balanced truncation"
   ]
  },
  {
   "cell_type": "code",
   "execution_count": null,
   "metadata": {},
   "outputs": [],
   "source": [
    "def reduction_errors(lti, r, mu_fine, reductor, **kwargs):\n",
    "    h2_err_mu = []\n",
    "    hinf_err_mu = []\n",
    "    hankel_err_mu = []\n",
    "    for mu in mu_fine:\n",
    "        rom_mu = reductor(lti, mu=mu, **kwargs).reduce(r)\n",
    "        h2_err_mu.append((lti - rom_mu).h2_norm(mu=mu) / lti.h2_norm(mu=mu))\n",
    "        if config.HAVE_SLYCOT:\n",
    "            hinf_err_mu.append((lti - rom_mu).hinf_norm(mu=mu) / lti.hinf_norm(mu=mu))\n",
    "        hankel_err_mu.append((lti - rom_mu).hankel_norm(mu=mu) / lti.hankel_norm(mu=mu))\n",
    "    return h2_err_mu, hinf_err_mu, hankel_err_mu"
   ]
  },
  {
   "cell_type": "code",
   "execution_count": null,
   "metadata": {
    "scrolled": true
   },
   "outputs": [],
   "source": [
    "r = 5\n",
    "mu_fine = np.logspace(-1, 1, 10)\n",
    "h2_bt_err_mu, hinf_bt_err_mu, hankel_bt_err_mu = reduction_errors(lti, r, mu_fine, BTReductor)"
   ]
  },
  {
   "cell_type": "code",
   "execution_count": null,
   "metadata": {
    "scrolled": true
   },
   "outputs": [],
   "source": [
    "fig, ax = plt.subplots()\n",
    "ax.semilogy(mu_fine, h2_bt_err_mu, '.-', label=r'$\\mathcal{H}_2$')\n",
    "if config.HAVE_SLYCOT:\n",
    "    ax.semilogy(mu_fine, hinf_bt_err_mu, '.-', label=r'$\\mathcal{H}_\\infty$')\n",
    "ax.semilogy(mu_fine, hankel_bt_err_mu, '.-', label='Hankel')\n",
    "\n",
    "ax.set_xlabel(r'$\\mu$')\n",
    "ax.set_title('Balanced truncation errors')\n",
    "ax.legend()\n",
    "plt.show()"
   ]
  },
  {
   "cell_type": "markdown",
   "metadata": {},
   "source": [
    "# Iterative Rational Krylov Algorithm (IRKA)"
   ]
  },
  {
   "cell_type": "code",
   "execution_count": null,
   "metadata": {
    "scrolled": true
   },
   "outputs": [],
   "source": [
    "h2_irka_err_mu, hinf_irka_err_mu, hankel_irka_err_mu = reduction_errors(lti, r, mu_fine, IRKAReductor)"
   ]
  },
  {
   "cell_type": "code",
   "execution_count": null,
   "metadata": {
    "scrolled": true
   },
   "outputs": [],
   "source": [
    "fig, ax = plt.subplots()\n",
    "ax.semilogy(mu_fine, h2_irka_err_mu, '.-', label=r'$\\mathcal{H}_2$')\n",
    "if config.HAVE_SLYCOT:\n",
    "    ax.semilogy(mu_fine, hinf_irka_err_mu, '.-', label=r'$\\mathcal{H}_\\infty$')\n",
    "ax.semilogy(mu_fine, hankel_irka_err_mu, '.-', label='Hankel')\n",
    "\n",
    "ax.set_xlabel(r'$\\mu$')\n",
    "ax.set_title('IRKA errors')\n",
    "ax.legend()\n",
    "plt.show()"
   ]
  },
  {
   "cell_type": "markdown",
   "metadata": {},
   "source": [
    "# Two-Sided Iteration Algorithm (TSIA)"
   ]
  },
  {
   "cell_type": "code",
   "execution_count": null,
   "metadata": {},
   "outputs": [],
   "source": [
    "h2_tsia_err_mu, hinf_tsia_err_mu, hankel_tsia_err_mu = reduction_errors(lti, r, mu_fine, TSIAReductor)"
   ]
  },
  {
   "cell_type": "code",
   "execution_count": null,
   "metadata": {
    "scrolled": true
   },
   "outputs": [],
   "source": [
    "fig, ax = plt.subplots()\n",
    "ax.semilogy(mu_fine, h2_tsia_err_mu, '.-', label=r'$\\mathcal{H}_2$')\n",
    "if config.HAVE_SLYCOT:\n",
    "    ax.semilogy(mu_fine, hinf_tsia_err_mu, '.-', label=r'$\\mathcal{H}_\\infty$')\n",
    "ax.semilogy(mu_fine, hankel_tsia_err_mu, '.-', label='Hankel')\n",
    "\n",
    "ax.set_xlabel(r'$\\mu$')\n",
    "ax.set_title('TSIA errors')\n",
    "ax.legend()\n",
    "plt.show()"
   ]
  },
  {
   "cell_type": "markdown",
   "metadata": {},
   "source": [
    "# One-sided IRKA"
   ]
  },
  {
   "cell_type": "code",
   "execution_count": null,
   "metadata": {
    "scrolled": true
   },
   "outputs": [],
   "source": [
    "h2_osirka_err_mu, hinf_osirka_err_mu, hankel_osirka_err_mu = reduction_errors(\n",
    "    lti, r, mu_fine, OneSidedIRKAReductor, version='V'\n",
    ")"
   ]
  },
  {
   "cell_type": "code",
   "execution_count": null,
   "metadata": {
    "scrolled": true
   },
   "outputs": [],
   "source": [
    "fig, ax = plt.subplots()\n",
    "ax.semilogy(mu_fine, h2_osirka_err_mu, '.-', label=r'$\\mathcal{H}_2$')\n",
    "if config.HAVE_SLYCOT:\n",
    "    ax.semilogy(mu_fine, hinf_osirka_err_mu, '.-', label=r'$\\mathcal{H}_\\infty$')\n",
    "ax.semilogy(mu_fine, hankel_osirka_err_mu, '.-', label='Hankel')\n",
    "\n",
    "ax.set_xlabel(r'$\\mu$')\n",
    "ax.set_title('One-sided IRKA errors')\n",
    "ax.legend()\n",
    "plt.show()"
   ]
  }
 ],
 "metadata": {
  "kernelspec": {
   "display_name": "Python 3",
   "language": "python",
   "name": "python3"
  },
  "language_info": {
   "codemirror_mode": {
    "name": "ipython",
    "version": 3
   },
   "file_extension": ".py",
   "mimetype": "text/x-python",
   "name": "python",
   "nbconvert_exporter": "python",
   "pygments_lexer": "ipython3",
   "version": "3.6.9"
  }
 },
 "nbformat": 4,
 "nbformat_minor": 2
}
